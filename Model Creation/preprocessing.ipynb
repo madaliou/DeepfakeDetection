{
  "cells": [
    {
      "cell_type": "code",
      "execution_count": null,
      "metadata": {
        "colab": {
          "background_save": true
        },
        "id": "LB0Z4O1z8Ny_",
        "outputId": "0298db3e-a93d-4dae-8b3d-598243aa18d2"
      },
      "outputs": [
        {
          "data": {
            "application/vnd.google.colaboratory.intrinsic+json": {
              "type": "string"
            },
            "text/plain": [
              "'19.24.0'"
            ]
          },
          "execution_count": 1,
          "metadata": {},
          "output_type": "execute_result"
        }
      ],
      "source": [
        "import dlib\n",
        "dlib.__version__"
      ]
    },
    {
      "cell_type": "code",
      "execution_count": null,
      "metadata": {
        "colab": {
          "base_uri": "https://localhost:8080/",
          "height": 393
        },
        "id": "bmekMY9TkVjP",
        "outputId": "2fd85d86-0706-442b-8d2a-170110912c4d"
      },
      "outputs": [
        {
          "name": "stdout",
          "output_type": "stream",
          "text": [
            "Looking in indexes: https://pypi.org/simple, https://us-python.pkg.dev/colab-wheels/public/simple/\n",
            "Collecting dlib==19.22.1\n",
            "  Downloading dlib-19.22.1.tar.gz (7.4 MB)\n",
            "\u001b[K     |████████████████████████████████| 7.4 MB 26.6 MB/s \n",
            "\u001b[?25hBuilding wheels for collected packages: dlib\n",
            "  Building wheel for dlib (setup.py) ... \u001b[?25l\u001b[?25hdone\n",
            "  Created wheel for dlib: filename=dlib-19.22.1-cp37-cp37m-linux_x86_64.whl size=4202375 sha256=178e4a2f822330921db96fdf34980d7a39c8dd1616cb20f981a23b3904e53ac7\n",
            "  Stored in directory: /root/.cache/pip/wheels/10/6f/db/ef0380a66d955f9caa81cff6027fb77c0b556568e0daace292\n",
            "Successfully built dlib\n",
            "Installing collected packages: dlib\n",
            "  Attempting uninstall: dlib\n",
            "    Found existing installation: dlib 19.24.0\n",
            "    Uninstalling dlib-19.24.0:\n",
            "      Successfully uninstalled dlib-19.24.0\n",
            "Successfully installed dlib-19.22.1\n"
          ]
        },
        {
          "data": {
            "application/vnd.colab-display-data+json": {
              "pip_warning": {
                "packages": [
                  "_dlib_pybind11",
                  "dlib"
                ]
              }
            }
          },
          "metadata": {},
          "output_type": "display_data"
        }
      ],
      "source": [
        "!pip install dlib==19.22.1"
      ]
    },
    {
      "cell_type": "code",
      "execution_count": null,
      "metadata": {
        "id": "98MjJGCB-euY"
      },
      "outputs": [],
      "source": [
        "import dlib\n",
        "dlib.__version__"
      ]
    },
    {
      "cell_type": "markdown",
      "metadata": {
        "id": "nMI7CYxcyiUB"
      },
      "source": [
        "Before running the file Upload all your data set on your goole drive in a zip format"
      ]
    },
    {
      "cell_type": "code",
      "execution_count": null,
      "metadata": {
        "colab": {
          "base_uri": "https://localhost:8080/"
        },
        "id": "YjtnZQkTu6tX",
        "outputId": "4c1b7cd6-4a37-44cf-ecaa-f563ca9ed81e"
      },
      "outputs": [
        {
          "name": "stdout",
          "output_type": "stream",
          "text": [
            "Mounted at /content/drive\n"
          ]
        }
      ],
      "source": [
        "#Mount our google drive\n",
        "from google.colab import drive\n",
        "drive.mount('/content/drive')"
      ]
    },
    {
      "cell_type": "code",
      "execution_count": null,
      "metadata": {
        "colab": {
          "base_uri": "https://localhost:8080/"
        },
        "id": "e-04Fn4mAHwR",
        "outputId": "1a428dc3-835c-4a86-c910-9f444316714a"
      },
      "outputs": [
        {
          "name": "stderr",
          "output_type": "stream",
          "text": [
            "Downloading...\n",
            "From: https://drive.google.com/uc?id=16GsQbWQfPVRQsvuCq8MwnZ1fcw5u1bNU\n",
            "To: /content/dataset_deepfake.zip\n",
            "100%|██████████| 166M/166M [00:03<00:00, 52.9MB/s]\n"
          ]
        },
        {
          "name": "stdout",
          "output_type": "stream",
          "text": [
            "Archive:  dataset_deepfake.zip\n",
            "   creating: deepfake_dataset/\n",
            "  inflating: deepfake_dataset/alqiqhnrza.mp4  \n",
            "  inflating: __MACOSX/deepfake_dataset/._alqiqhnrza.mp4  \n",
            "  inflating: deepfake_dataset/agjxpidzyu.mp4  \n",
            "  inflating: __MACOSX/deepfake_dataset/._agjxpidzyu.mp4  \n",
            "  inflating: deepfake_dataset/akfjqoantp.mp4  \n",
            "  inflating: __MACOSX/deepfake_dataset/._akfjqoantp.mp4  \n",
            "  inflating: deepfake_dataset/ooafcxxfrs.mp4  \n",
            "  inflating: __MACOSX/deepfake_dataset/._ooafcxxfrs.mp4  \n",
            "  inflating: deepfake_dataset/aeovzefbpr.mp4  \n",
            "  inflating: __MACOSX/deepfake_dataset/._aeovzefbpr.mp4  \n",
            "  inflating: deepfake_dataset/kvmpmhdxly.mp4  \n",
            "  inflating: __MACOSX/deepfake_dataset/._kvmpmhdxly.mp4  \n",
            "  inflating: deepfake_dataset/aijlttdlrj.mp4  \n",
            "  inflating: __MACOSX/deepfake_dataset/._aijlttdlrj.mp4  \n",
            "  inflating: deepfake_dataset/acljesxipy.mp4  \n",
            "  inflating: __MACOSX/deepfake_dataset/._acljesxipy.mp4  \n",
            "  inflating: deepfake_dataset/aeudhfvcvk.mp4  \n",
            "  inflating: __MACOSX/deepfake_dataset/._aeudhfvcvk.mp4  \n",
            "  inflating: deepfake_dataset/alkomvbvah.mp4  \n",
            "  inflating: __MACOSX/deepfake_dataset/._alkomvbvah.mp4  \n",
            "  inflating: deepfake_dataset/alrtntfxtd.mp4  \n",
            "  inflating: __MACOSX/deepfake_dataset/._alrtntfxtd.mp4  \n",
            "  inflating: deepfake_dataset/aelsfznuqw.mp4  \n",
            "  inflating: __MACOSX/deepfake_dataset/._aelsfznuqw.mp4  \n",
            "  inflating: deepfake_dataset/akpfvadijp.mp4  \n",
            "  inflating: __MACOSX/deepfake_dataset/._akpfvadijp.mp4  \n",
            "  inflating: deepfake_dataset/aheocfkxjx.mp4  \n",
            "  inflating: __MACOSX/deepfake_dataset/._aheocfkxjx.mp4  \n",
            "  inflating: deepfake_dataset/yhylappzid.mp4  \n",
            "  inflating: __MACOSX/deepfake_dataset/._yhylappzid.mp4  \n",
            "  inflating: deepfake_dataset/alxffdisev.mp4  \n",
            "  inflating: __MACOSX/deepfake_dataset/._alxffdisev.mp4  \n",
            "  inflating: deepfake_dataset/orblnqzpra.mp4  \n",
            "  inflating: __MACOSX/deepfake_dataset/._orblnqzpra.mp4  \n",
            "  inflating: deepfake_dataset/wfihvsniyz.mp4  \n",
            "  inflating: __MACOSX/deepfake_dataset/._wfihvsniyz.mp4  \n",
            "  inflating: deepfake_dataset/uonwfowmfa.mp4  \n",
            "  inflating: __MACOSX/deepfake_dataset/._uonwfowmfa.mp4  \n",
            "  inflating: deepfake_dataset/afqfrfdowg.mp4  \n",
            "  inflating: __MACOSX/deepfake_dataset/._afqfrfdowg.mp4  \n",
            "  inflating: deepfake_dataset/abebnhqyzv.mp4  \n",
            "  inflating: __MACOSX/deepfake_dataset/._abebnhqyzv.mp4  \n",
            "  inflating: deepfake_dataset/ajqmtwoocc.mp4  \n",
            "  inflating: __MACOSX/deepfake_dataset/._ajqmtwoocc.mp4  \n",
            "  inflating: deepfake_dataset/abxtkdjyru.mp4  \n",
            "  inflating: __MACOSX/deepfake_dataset/._abxtkdjyru.mp4  \n",
            "  inflating: deepfake_dataset/adwbthsgqb.mp4  \n",
            "  inflating: __MACOSX/deepfake_dataset/._adwbthsgqb.mp4  \n",
            "  inflating: deepfake_dataset/agplffthuy.mp4  \n",
            "  inflating: __MACOSX/deepfake_dataset/._agplffthuy.mp4  \n",
            "  inflating: deepfake_dataset/aassnaulhq.mp4  \n",
            "  inflating: __MACOSX/deepfake_dataset/._aassnaulhq.mp4  \n",
            "  inflating: deepfake_dataset/ajmuljcfkb.mp4  \n",
            "  inflating: __MACOSX/deepfake_dataset/._ajmuljcfkb.mp4  \n",
            "  inflating: deepfake_dataset/alfidaevix.mp4  \n",
            "  inflating: __MACOSX/deepfake_dataset/._alfidaevix.mp4  \n"
          ]
        }
      ],
      "source": [
        "#Téléchargement du dataset\n",
        "import gdown \n",
        "url = \"https://drive.google.com/uc?id=16GsQbWQfPVRQsvuCq8MwnZ1fcw5u1bNU\"\n",
        "\n",
        "out = \"dataset_deepfake.zip\"\n",
        "gdown.download(url, out, quiet=False)\n",
        "\n",
        "!unzip dataset_deepfake.zip"
      ]
    },
    {
      "cell_type": "code",
      "execution_count": null,
      "metadata": {
        "colab": {
          "base_uri": "https://localhost:8080/"
        },
        "id": "1f40EeRuvAkO",
        "outputId": "f1d17485-d8fc-470a-f0c7-3a2bdf604b09"
      },
      "outputs": [
        {
          "name": "stdout",
          "output_type": "stream",
          "text": [
            "frames [299, 299, 299, 300, 299, 299, 299, 299, 299, 299, 300, 299, 299, 299, 299, 299, 300, 299, 299, 299, 299, 299, 299, 300, 299, 299, 299, 299]\n",
            "Total number of videos:  28\n",
            "Average frame per video: 299.14285714285717\n"
          ]
        }
      ],
      "source": [
        "#To get the average frame count \n",
        "import json\n",
        "import glob\n",
        "import numpy as np\n",
        "import cv2\n",
        "import copy\n",
        "#change the path accordingly\n",
        "video_files =  glob.glob('deepfake_dataset/*.mp4')\n",
        "#video_files1 =  glob.glob('/content/dfdc_train_part_0/*.mp4')\n",
        "#video_files += video_files1\n",
        "frame_count = []\n",
        "for video_file in video_files:\n",
        "  cap = cv2.VideoCapture(video_file)\n",
        "  if(int(cap.get(cv2.CAP_PROP_FRAME_COUNT))<150):\n",
        "    video_files.remove(video_file)\n",
        "    continue\n",
        "  frame_count.append(int(cap.get(cv2.CAP_PROP_FRAME_COUNT)))\n",
        "print(\"frames\" , frame_count)\n",
        "print(\"Total number of videos: \" , len(frame_count))\n",
        "print('Average frame per video:',np.mean(frame_count))"
      ]
    },
    {
      "cell_type": "code",
      "execution_count": null,
      "metadata": {
        "colab": {
          "base_uri": "https://localhost:8080/"
        },
        "id": "U92Ovn3JvV52",
        "outputId": "879798d8-7412-4029-ec87-1d2f13bdab95"
      },
      "outputs": [
        {
          "name": "stdout",
          "output_type": "stream",
          "text": [
            "Looking in indexes: https://pypi.org/simple, https://us-python.pkg.dev/colab-wheels/public/simple/\n",
            "Collecting face_recognition\n",
            "  Downloading face_recognition-1.3.0-py2.py3-none-any.whl (15 kB)\n",
            "Requirement already satisfied: Pillow in /usr/local/lib/python3.7/dist-packages (from face_recognition) (7.1.2)\n",
            "Requirement already satisfied: dlib>=19.7 in /usr/local/lib/python3.7/dist-packages (from face_recognition) (19.22.1)\n",
            "Requirement already satisfied: numpy in /usr/local/lib/python3.7/dist-packages (from face_recognition) (1.21.6)\n",
            "Collecting face-recognition-models>=0.3.0\n",
            "  Downloading face_recognition_models-0.3.0.tar.gz (100.1 MB)\n",
            "\u001b[K     |████████████████████████████████| 100.1 MB 31 kB/s \n",
            "\u001b[?25hRequirement already satisfied: Click>=6.0 in /usr/local/lib/python3.7/dist-packages (from face_recognition) (7.1.2)\n",
            "Building wheels for collected packages: face-recognition-models\n",
            "  Building wheel for face-recognition-models (setup.py) ... \u001b[?25l\u001b[?25hdone\n",
            "  Created wheel for face-recognition-models: filename=face_recognition_models-0.3.0-py2.py3-none-any.whl size=100566186 sha256=599dc59b9e1544e02aba7d97e525d2a64e38d20730d7669f1aa66166993a7f51\n",
            "  Stored in directory: /root/.cache/pip/wheels/d6/81/3c/884bcd5e1c120ff548d57c2ecc9ebf3281c9a6f7c0e7e7947a\n",
            "Successfully built face-recognition-models\n",
            "Installing collected packages: face-recognition-models, face-recognition\n",
            "Successfully installed face-recognition-1.3.0 face-recognition-models-0.3.0\n"
          ]
        }
      ],
      "source": [
        "# to extract frame\n",
        "def frame_extract(path):\n",
        "  vidObj = cv2.VideoCapture(path) \n",
        "  success = 1\n",
        "  while success:\n",
        "      success, image = vidObj.read()\n",
        "      if success:\n",
        "          yield image\n",
        "!pip3 install face_recognition\n",
        "!mkdir '/content/drive/My Drive/Face_only_data'\n",
        "import torch\n",
        "import torchvision\n",
        "from torchvision import transforms\n",
        "from torch.utils.data import DataLoader\n",
        "from torch.utils.data.dataset import Dataset\n",
        "import os\n",
        "import numpy as np\n",
        "import cv2\n",
        "import matplotlib.pyplot as plt\n",
        "import face_recognition\n",
        "from tqdm.autonotebook import tqdm\n",
        "\n",
        "\n",
        "# process the frames\n",
        "def create_face_videos(path_list,out_dir):\n",
        "  already_present_count =  glob.glob(out_dir+'*.mp4')\n",
        "  print(\"No of videos already present \" , len(already_present_count))\n",
        "  for path in tqdm(path_list):\n",
        "    out_path = os.path.join(out_dir,path.split('/')[-1])\n",
        "    file_exists = glob.glob(out_path)\n",
        "    if(len(file_exists) != 0):\n",
        "      print(\"File Already exists: \" , out_path)\n",
        "      continue\n",
        "    frames = []\n",
        "    flag = 0\n",
        "    face_all = []\n",
        "    frames1 = []\n",
        "    out = cv2.VideoWriter(out_path,cv2.VideoWriter_fourcc('M','J','P','G'), 30, (112,112))\n",
        "    for idx,frame in enumerate(frame_extract(path)):\n",
        "      #if(idx % 3 == 0):\n",
        "      if(idx <= 150):\n",
        "        frames.append(frame)\n",
        "        if(len(frames) == 4):\n",
        "          \n",
        "          faces = face_recognition.batch_face_locations(frames)\n",
        "          \n",
        "          for i,face in enumerate(faces):\n",
        "            if(len(face) != 0):\n",
        "              top,right,bottom,left = face[0]\n",
        "            try:\n",
        "              out.write(cv2.resize(frames[i][top:bottom,left:right,:],(112,112)))\n",
        "            except:\n",
        "              pass\n",
        "          frames = []\n",
        "          \n",
        "    try:\n",
        "      del top,right,bottom,left\n",
        "    except:\n",
        "      pass\n",
        "    out.release()"
      ]
    },
    {
      "cell_type": "code",
      "execution_count": null,
      "metadata": {
        "id": "sF5qiWGLvei-"
      },
      "outputs": [],
      "source": [
        "create_face_videos(video_files,'/content/drive/My Drive/Face_only_data/')"
      ]
    },
    {
      "cell_type": "markdown",
      "metadata": {
        "id": "yugCcye0odiQ"
      },
      "source": [
        "# Nouvelle section"
      ]
    },
    {
      "cell_type": "code",
      "execution_count": null,
      "metadata": {
        "id": "Ef-gro0mZTT0"
      },
      "outputs": [],
      "source": []
    }
  ],
  "metadata": {
    "colab": {
      "collapsed_sections": [],
      "provenance": []
    },
    "gpuClass": "standard",
    "kernelspec": {
      "display_name": "Python 3",
      "name": "python3"
    }
  },
  "nbformat": 4,
  "nbformat_minor": 0
}